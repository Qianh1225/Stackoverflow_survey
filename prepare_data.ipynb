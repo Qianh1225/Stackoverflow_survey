{
 "cells": [
  {
   "cell_type": "markdown",
   "metadata": {},
   "source": [
    "### Prepare data\n",
    "In order to answer question 2-5, I will use surveys in 2019 and 2018 which have similar questions and choices. Here I will select and clean the relevant features."
   ]
  },
  {
   "cell_type": "code",
   "execution_count": 1,
   "metadata": {},
   "outputs": [],
   "source": [
    "import pandas as pd\n",
    "import numpy as np\n",
    "import clean_data as c\n",
    "pd.options.display.max_seq_items = 2000\n",
    "pd.options.display.max_rows = 4000"
   ]
  },
  {
   "cell_type": "markdown",
   "metadata": {},
   "source": [
    "### step1: clear 2019 dataset"
   ]
  },
  {
   "cell_type": "code",
   "execution_count": 2,
   "metadata": {},
   "outputs": [
    {
     "name": "stdout",
     "output_type": "stream",
     "text": [
      "88883 people have participed the survey\n",
      "85 of questions is asked\n"
     ]
    },
    {
     "data": {
      "text/plain": [
       "Index(['Respondent', 'MainBranch', 'Hobbyist', 'OpenSourcer', 'OpenSource',\n",
       "       'Employment', 'Country', 'Student', 'EdLevel', 'UndergradMajor',\n",
       "       'EduOther', 'OrgSize', 'DevType', 'YearsCode', 'Age1stCode',\n",
       "       'YearsCodePro', 'CareerSat', 'JobSat', 'MgrIdiot', 'MgrMoney',\n",
       "       'MgrWant', 'JobSeek', 'LastHireDate', 'LastInt', 'FizzBuzz',\n",
       "       'JobFactors', 'ResumeUpdate', 'CurrencySymbol', 'CurrencyDesc',\n",
       "       'CompTotal', 'CompFreq', 'ConvertedComp', 'WorkWeekHrs', 'WorkPlan',\n",
       "       'WorkChallenge', 'WorkRemote', 'WorkLoc', 'ImpSyn', 'CodeRev',\n",
       "       'CodeRevHrs', 'UnitTests', 'PurchaseHow', 'PurchaseWhat',\n",
       "       'LanguageWorkedWith', 'LanguageDesireNextYear', 'DatabaseWorkedWith',\n",
       "       'DatabaseDesireNextYear', 'PlatformWorkedWith',\n",
       "       'PlatformDesireNextYear', 'WebFrameWorkedWith',\n",
       "       'WebFrameDesireNextYear', 'MiscTechWorkedWith',\n",
       "       'MiscTechDesireNextYear', 'DevEnviron', 'OpSys', 'Containers',\n",
       "       'BlockchainOrg', 'BlockchainIs', 'BetterLife', 'ITperson', 'OffOn',\n",
       "       'SocialMedia', 'Extraversion', 'ScreenName', 'SOVisit1st',\n",
       "       'SOVisitFreq', 'SOVisitTo', 'SOFindAnswer', 'SOTimeSaved',\n",
       "       'SOHowMuchTime', 'SOAccount', 'SOPartFreq', 'SOJobs', 'EntTeams',\n",
       "       'SOComm', 'WelcomeChange', 'SONewContent', 'Age', 'Gender', 'Trans',\n",
       "       'Sexuality', 'Ethnicity', 'Dependents', 'SurveyLength', 'SurveyEase'],\n",
       "      dtype='object')"
      ]
     },
     "execution_count": 2,
     "metadata": {},
     "output_type": "execute_result"
    }
   ],
   "source": [
    "data_2019 = pd.read_csv('./2019/survey_results_public.csv')\n",
    "print(f'{data_2019.shape[0]} people have participed the survey')\n",
    "print(f'{data_2019.shape[1]} of questions is asked')\n",
    "data_2019_description = pd.read_csv('./2019/survey_results_schema.csv')\n",
    "data_2019.columns"
   ]
  },
  {
   "cell_type": "code",
   "execution_count": 3,
   "metadata": {},
   "outputs": [],
   "source": [
    "# occupations\n",
    "data_2019_q2 = pd.DataFrame()\n",
    "data_2019_q2['Respondent'] = data_2019['Respondent'].copy()\n",
    "result = c.seperate_occupations_2018_2019(data_2019, 'DevType')\n",
    "data_2019_q2['is_DS_ML'] = result.is_DS_ML.copy()\n",
    "data_2019_q2['is_DA'] = result.is_DA.copy()\n",
    "data_2019_q2['is_DEV'] = result.is_DEV.copy()\n",
    "# students or full time professional:\n",
    "data_2019_q2['is_full_time'] = ((data_2019['Employment'] == 'Employed full-time'))\n",
    "data_2019_q2['is_student'] = data_2019['Student'] == 'Yes, full-time'\n",
    "# education level and major\n",
    "data_2019_q2['edlevel'] = data_2019.EdLevel.copy()\n",
    "data_2019_q2['major'] = data_2019.UndergradMajor.copy()\n",
    "# salary\n",
    "data_2019_q2['salary'] = data_2019['ConvertedComp'].copy()\n",
    "data_2019_q2['salary_freq'] = data_2019['CompFreq'].copy()\n",
    "data_2019_q2['country'] = data_2019['Country'].copy()\n",
    "data_2019_q2['salary_annual'] = c.convert_salary(data_2019_q2['salary'], data_2019_q2['salary_freq'])\n",
    "# convert company size\n",
    "c.converted_company_size_2019(data_2019_q2, data_2019)\n",
    "# Job satisfication\n",
    "data_2019_q2['JobSat'] = data_2019['JobSat'].copy()\n",
    "data_2019_q2.loc[data_2019_q2['JobSat'] == 'Neither satisfied nor dissatisfied', \n",
    "                 'JobSat'] = 'Neither'\n",
    "# # Other education\n",
    "# result = c.seperate_otherEd_2018_2019(data_2019, 'EduOther')\n",
    "# data_2019_q2['online_course'] = result.online_course\n",
    "# data_2019_q2['bootcamp'] = result.bootcamp\n",
    "# # Language\n",
    "# data_2019_q2['language_worked'] = data_2019['LanguageWorkedWith'].copy()\n",
    "# data_2019_q2['language_to_learn'] = data_2019['LanguageDesireNextYear'].copy()\n",
    "# # library\n",
    "# data_2019_q2['MiscTech_worked'] = data_2019['MiscTechWorkedWith'].copy()\n",
    "# data_2019_q2['MiscTech_to_learn'] = data_2019['MiscTechDesireNextYear'].copy()\n",
    "# # Use pytorch or tensorflow\n",
    "# result = c.find_DL(data_2019_q2['MiscTech_worked'])\n",
    "# data_2019_q2['use_DL'] = result['use_DL'].copy()\n",
    "# data_2019_q2['pytorch'] = result['pytorch'].copy()\n",
    "# data_2019_q2['tensorflow'] = result['tensorflow'].copy()"
   ]
  },
  {
   "cell_type": "markdown",
   "metadata": {},
   "source": [
    "### clear 2018 survey data"
   ]
  },
  {
   "cell_type": "code",
   "execution_count": 4,
   "metadata": {},
   "outputs": [
    {
     "name": "stderr",
     "output_type": "stream",
     "text": [
      "/Users/qian/anaconda3/lib/python3.7/site-packages/IPython/core/interactiveshell.py:3063: DtypeWarning: Columns (8,12,13,14,15,16,50,51,52,53,55,56,57,58,59,60,61,62,63,64,65,66,67,68,69,70,71,72,73,74,75,76,77,78,79,80,81,82,83,84,85,93,94,95,96,97,98,99,100,101,102,103,104,105,106,107,108,109,110,111,112,113,114,115,116,117,118,119,120,121,122,123,124,125,126,127,128) have mixed types.Specify dtype option on import or set low_memory=False.\n",
      "  interactivity=interactivity, compiler=compiler, result=result)\n"
     ]
    },
    {
     "data": {
      "text/plain": [
       "Index(['Respondent', 'Hobby', 'OpenSource', 'Country', 'Student', 'Employment',\n",
       "       'FormalEducation', 'UndergradMajor', 'CompanySize', 'DevType',\n",
       "       'YearsCoding', 'YearsCodingProf', 'JobSatisfaction',\n",
       "       'CareerSatisfaction', 'HopeFiveYears', 'JobSearchStatus', 'LastNewJob',\n",
       "       'AssessJob1', 'AssessJob2', 'AssessJob3', 'AssessJob4', 'AssessJob5',\n",
       "       'AssessJob6', 'AssessJob7', 'AssessJob8', 'AssessJob9', 'AssessJob10',\n",
       "       'AssessBenefits1', 'AssessBenefits2', 'AssessBenefits3',\n",
       "       'AssessBenefits4', 'AssessBenefits5', 'AssessBenefits6',\n",
       "       'AssessBenefits7', 'AssessBenefits8', 'AssessBenefits9',\n",
       "       'AssessBenefits10', 'AssessBenefits11', 'JobContactPriorities1',\n",
       "       'JobContactPriorities2', 'JobContactPriorities3',\n",
       "       'JobContactPriorities4', 'JobContactPriorities5', 'JobEmailPriorities1',\n",
       "       'JobEmailPriorities2', 'JobEmailPriorities3', 'JobEmailPriorities4',\n",
       "       'JobEmailPriorities5', 'JobEmailPriorities6', 'JobEmailPriorities7',\n",
       "       'UpdateCV', 'Currency', 'Salary', 'SalaryType', 'ConvertedSalary',\n",
       "       'CurrencySymbol', 'CommunicationTools', 'TimeFullyProductive',\n",
       "       'EducationTypes', 'SelfTaughtTypes', 'TimeAfterBootcamp',\n",
       "       'HackathonReasons', 'AgreeDisagree1', 'AgreeDisagree2',\n",
       "       'AgreeDisagree3', 'LanguageWorkedWith', 'LanguageDesireNextYear',\n",
       "       'DatabaseWorkedWith', 'DatabaseDesireNextYear', 'PlatformWorkedWith',\n",
       "       'PlatformDesireNextYear', 'FrameworkWorkedWith',\n",
       "       'FrameworkDesireNextYear', 'IDE', 'OperatingSystem', 'NumberMonitors',\n",
       "       'Methodology', 'VersionControl', 'CheckInCode', 'AdBlocker',\n",
       "       'AdBlockerDisable', 'AdBlockerReasons', 'AdsAgreeDisagree1',\n",
       "       'AdsAgreeDisagree2', 'AdsAgreeDisagree3', 'AdsActions',\n",
       "       'AdsPriorities1', 'AdsPriorities2', 'AdsPriorities3', 'AdsPriorities4',\n",
       "       'AdsPriorities5', 'AdsPriorities6', 'AdsPriorities7', 'AIDangerous',\n",
       "       'AIInteresting', 'AIResponsible', 'AIFuture', 'EthicsChoice',\n",
       "       'EthicsReport', 'EthicsResponsible', 'EthicalImplications',\n",
       "       'StackOverflowRecommend', 'StackOverflowVisit',\n",
       "       'StackOverflowHasAccount', 'StackOverflowParticipate',\n",
       "       'StackOverflowJobs', 'StackOverflowDevStory',\n",
       "       'StackOverflowJobsRecommend', 'StackOverflowConsiderMember',\n",
       "       'HypotheticalTools1', 'HypotheticalTools2', 'HypotheticalTools3',\n",
       "       'HypotheticalTools4', 'HypotheticalTools5', 'WakeTime', 'HoursComputer',\n",
       "       'HoursOutside', 'SkipMeals', 'ErgonomicDevices', 'Exercise', 'Gender',\n",
       "       'SexualOrientation', 'EducationParents', 'RaceEthnicity', 'Age',\n",
       "       'Dependents', 'MilitaryUS', 'SurveyTooLong', 'SurveyEasy'],\n",
       "      dtype='object')"
      ]
     },
     "execution_count": 4,
     "metadata": {},
     "output_type": "execute_result"
    }
   ],
   "source": [
    "data_2018 = pd.read_csv('./2018/survey_results_public.csv')\n",
    "data_2018.columns"
   ]
  },
  {
   "cell_type": "code",
   "execution_count": 5,
   "metadata": {},
   "outputs": [],
   "source": [
    "# occupations\n",
    "data_2018_q2 = pd.DataFrame()\n",
    "data_2018_q2['Respondent'] = data_2018['Respondent'].copy()\n",
    "result = c.seperate_occupations_2018_2019(data_2018, 'DevType')\n",
    "data_2018_q2['is_DS_ML'] = result.is_DS_ML.copy()\n",
    "data_2018_q2['is_DA'] = result.is_DA.copy()\n",
    "data_2018_q2['is_DEV'] = result.is_DEV.copy()\n",
    "# students or professional:\n",
    "data_2018_q2['is_full_time'] = ((data_2018['Employment'] == 'Employed full-time'))\n",
    "data_2018_q2['is_student'] = data_2018['Student'] == 'Yes, full-time'\n",
    "# education level and major\n",
    "data_2018_q2['edlevel'] = data_2018.FormalEducation.copy()\n",
    "data_2018_q2['major'] = data_2018.UndergradMajor.copy()\n",
    "# salary\n",
    "data_2018_q2['salary'] = data_2018['ConvertedSalary'].copy()\n",
    "data_2018_q2['salary_freq'] = data_2018['SalaryType'].copy()\n",
    "data_2018_q2['country'] = data_2018['Country'].copy()\n",
    "data_2018_q2['salary_annual'] = c.convert_salary(data_2018_q2['salary'], data_2018_q2['salary_freq'])\n",
    "# Convert company size\n",
    "c.convert_company_size_2018(data_2018, data_2018_q2)  \n",
    "# Job Satisfication\n",
    "data_2018_q2['JobSat'] = data_2018['JobSatisfaction'].copy()\n",
    "data_2018_q2.loc[data_2018_q2['JobSat'] == 'Neither satisfied nor dissatisfied',\n",
    "                'JobSat'] = 'Neither'\n",
    "\n",
    "# # Other education\n",
    "# result = c.seperate_otherEd_2018_2019(data_2018, 'EducationTypes')\n",
    "# data_2018_q2['online_course'] = result.online_course\n",
    "# data_2018_q2['bootcamp'] = result.bootcamp\n",
    "# # gender\n",
    "# data_2018_q2['gender'] = data_2018.Gender.copy()\n",
    "# # Language\n",
    "# data_2018_q2['language_worked'] = data_2018['LanguageWorkedWith'].copy()\n",
    "# data_2018_q2['language_to_learn'] = data_2018['LanguageDesireNextYear'].copy()\n",
    "# # library\n",
    "# data_2018_q2['MiscTech_worked'] = data_2018['FrameworkWorkedWith'].copy()\n",
    "# data_2018_q2['MiscTech_to_learn'] = data_2018['FrameworkDesireNextYear'].copy()\n",
    "# # Use tensorflow or pytorch\n",
    "# result = c.find_DL(data_2018_q2['MiscTech_worked'])\n",
    "# data_2018_q2['use_DL'] = result['use_DL'].copy()\n",
    "# data_2018_q2['pytorch'] = result['pytorch'].copy()\n",
    "# data_2018_q2['tensorflow'] = result['tensorflow'].copy()"
   ]
  },
  {
   "cell_type": "code",
   "execution_count": 6,
   "metadata": {},
   "outputs": [],
   "source": [
    "# save data\n",
    "data_2019_q2['year'] = 2019\n",
    "data_2018_q2['year'] = 2018\n",
    "data_2019_q2.to_pickle('data_2019_q2')\n",
    "data_2018_q2.to_pickle('data_2018_q2')\n",
    "data = pd.concat([data_2019_q2, data_2018_q2])\n",
    "data.to_pickle('data')"
   ]
  }
 ],
 "metadata": {
  "kernelspec": {
   "display_name": "Python 3",
   "language": "python",
   "name": "python3"
  },
  "language_info": {
   "codemirror_mode": {
    "name": "ipython",
    "version": 3
   },
   "file_extension": ".py",
   "mimetype": "text/x-python",
   "name": "python",
   "nbconvert_exporter": "python",
   "pygments_lexer": "ipython3",
   "version": "3.7.6"
  }
 },
 "nbformat": 4,
 "nbformat_minor": 4
}
